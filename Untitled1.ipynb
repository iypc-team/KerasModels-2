{
 "cells": [
  {
   "cell_type": "code",
   "execution_count": 1,
   "id": "b8649757",
   "metadata": {},
   "outputs": [
    {
     "name": "stdout",
     "output_type": "stream",
     "text": [
      "tf version: \u001b[1;94m2.7.0\u001b[0m\n",
      "tflite version: \u001b[1;94m0.3.4\n"
     ]
    }
   ],
   "source": [
    "from __future__ import absolute_import, division\n",
    "from IPython.display import clear_output\n",
    "from BashColors import C\n",
    "\n",
    "import glob, os, shutil\n",
    "from os.path import *\n",
    "os.environ['TF_CPP_MIN_LOG_LEVEL'] = '4'\n",
    "\n",
    "contentPath=os.getcwd()\n",
    "\n",
    "import numpy as np\n",
    "np.set_printoptions(precision=1)\n",
    "import tensorflow as tf\n",
    "assert tf.__version__.startswith('2')\n",
    "import tflite_model_maker\n",
    "from tflite_model_maker import model_spec\n",
    "from tflite_model_maker import image_classifier\n",
    "from tflite_model_maker.config import ExportFormat\n",
    "from tflite_model_maker.config import QuantizationConfig\n",
    "from tflite_model_maker.image_classifier import DataLoader\n",
    "import matplotlib.pyplot as plt\n",
    "\n",
    "print(f'tf version: {C.BIBlue}{tf.__version__}{C.ColorOff}')\n",
    "print(f'tflite version: {C.BIBlue}{tflite_model_maker.__version__}')"
   ]
  },
  {
   "cell_type": "code",
   "execution_count": null,
   "id": "41911b88",
   "metadata": {},
   "outputs": [],
   "source": []
  },
  {
   "cell_type": "code",
   "execution_count": null,
   "id": "b5669d74",
   "metadata": {},
   "outputs": [],
   "source": []
  },
  {
   "cell_type": "code",
   "execution_count": null,
   "id": "1b9bd33b",
   "metadata": {},
   "outputs": [],
   "source": []
  }
 ],
 "metadata": {
  "kernelspec": {
   "display_name": "Python 3 (ipykernel)",
   "language": "python",
   "name": "python3"
  },
  "language_info": {
   "codemirror_mode": {
    "name": "ipython",
    "version": 3
   },
   "file_extension": ".py",
   "mimetype": "text/x-python",
   "name": "python",
   "nbconvert_exporter": "python",
   "pygments_lexer": "ipython3",
   "version": "3.7.12"
  }
 },
 "nbformat": 4,
 "nbformat_minor": 5
}
