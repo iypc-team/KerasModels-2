{
 "cells": [
  {
   "cell_type": "code",
   "execution_count": null,
   "id": "45dea1b2",
   "metadata": {},
   "outputs": [],
   "source": [
    "# 1/17/2021-1\n",
    "from __future__ import absolute_import, division\n",
    "from IPython.display import clear_output\n",
    "from BashColors import C\n",
    "\n",
    "import glob, os, shutil, sys\n",
    "from os.path import *\n",
    "os.environ['TF_CPP_MIN_LOG_LEVEL'] = '2' \n",
    "\n",
    "import TarfileFunctions\n",
    "from TarfileFunctions import *\n",
    "from BashColors import C\n",
    "\n",
    "contentPath=os.getcwd()\n",
    "if exists(join(contentPath, 'site')):\n",
    "    shutil.rmtree(join(contentPath, 'site'))\n",
    "cv2Path = join(contentPath, 'CV2Images')\n",
    "testPath = join(contentPath, 'images')\n",
    "print(f'cwd: {C.BIBlue}{os.getcwd()}')"
   ]
  },
  {
   "cell_type": "code",
   "execution_count": null,
   "id": "c99cfff7",
   "metadata": {},
   "outputs": [],
   "source": [
    "tff.tarfileFromDirectory(output_filename='Validation.tar.gz',\n",
    "                        source_dir='Validation')"
   ]
  },
  {
   "cell_type": "code",
   "execution_count": null,
   "id": "c858164c",
   "metadata": {},
   "outputs": [],
   "source": [
    "alreadyInstalledList=set([each.split('.')[0] for each in sys.modules.keys()])\n",
    "modul = sys.modules.keys()\n",
    "\n",
    "for idx, item in enumerate(alreadyInstalledList):\n",
    "    if item in sorted(alreadyInstalledList):\n",
    "        print(f'{idx} {C.BIBlue}{item}{C.ColorOff}')"
   ]
  },
  {
   "cell_type": "code",
   "execution_count": null,
   "id": "4848b290",
   "metadata": {},
   "outputs": [],
   "source": [
    "import tensorflow as tf\n",
    "print(f'tensorflow: {C.BIBlue}{tf.__version__}{C.ColorOff}')\n",
    "import tensorflowjs as tfjs\n",
    "print(f'tensorflowjs: {C.BIBlue}{tfjs.__version__}{C.ColorOff}')\n",
    "from tensorflowjs import *"
   ]
  },
  {
   "cell_type": "code",
   "execution_count": null,
   "id": "9c2966f1",
   "metadata": {},
   "outputs": [],
   "source": [
    "dir(tfjs.converters)"
   ]
  }
 ],
 "metadata": {
  "kernelspec": {
   "display_name": "Python 3 (ipykernel)",
   "language": "python",
   "name": "python3"
  },
  "language_info": {
   "codemirror_mode": {
    "name": "ipython",
    "version": 3
   },
   "file_extension": ".py",
   "mimetype": "text/x-python",
   "name": "python",
   "nbconvert_exporter": "python",
   "pygments_lexer": "ipython3",
   "version": "3.7.12"
  }
 },
 "nbformat": 4,
 "nbformat_minor": 5
}
