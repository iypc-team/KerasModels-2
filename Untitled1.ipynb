{
 "cells": [
  {
   "cell_type": "code",
   "execution_count": null,
   "id": "45dea1b2",
   "metadata": {},
   "outputs": [],
   "source": [
    "# 1/17/2021-1\n",
    "from __future__ import absolute_import, division\n",
    "from IPython.display import clear_output\n",
    "from BashColors import C\n",
    "\n",
    "import glob, os, shutil, sys\n",
    "from os.path import *\n",
    "os.environ['TF_CPP_MIN_LOG_LEVEL'] = '2' \n",
    "\n",
    "import TarfileFunctions\n",
    "from TarfileFunctions import *\n",
    "from BashColors import C\n",
    "\n",
    "contentPath=os.getcwd()\n",
    "if exists(join(contentPath, 'site')):\n",
    "    shutil.rmtree(join(contentPath, 'site'))\n",
    "cv2Path = join(contentPath, 'CV2Images')\n",
    "testPath = join(contentPath, 'images')\n",
    "print(f'cwd: {C.BIBlue}{os.getcwd()}')"
   ]
  },
  {
   "cell_type": "code",
   "execution_count": null,
   "id": "c99cfff7",
   "metadata": {},
   "outputs": [],
   "source": [
    "tff.tarfileFromDirectory(output_filename='Validation.tar.gz',\n",
    "                        source_dir='Validation')"
   ]
  },
  {
   "cell_type": "code",
   "execution_count": null,
   "id": "1ac8bdcf",
   "metadata": {},
   "outputs": [],
   "source": [
    "tff.listTarfiles()"
   ]
  },
  {
   "cell_type": "code",
   "execution_count": null,
   "id": "5f5d21b9",
   "metadata": {},
   "outputs": [],
   "source": [
    "tff.inspectTarfile(named='Validation.tar.gz')"
   ]
  }
 ],
 "metadata": {
  "kernelspec": {
   "display_name": "Python 3 (ipykernel)",
   "language": "python",
   "name": "python3"
  },
  "language_info": {
   "codemirror_mode": {
    "name": "ipython",
    "version": 3
   },
   "file_extension": ".py",
   "mimetype": "text/x-python",
   "name": "python",
   "nbconvert_exporter": "python",
   "pygments_lexer": "ipython3",
   "version": "3.7.12"
  }
 },
 "nbformat": 4,
 "nbformat_minor": 5
}
