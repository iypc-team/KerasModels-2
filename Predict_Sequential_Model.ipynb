{
 "cells": [
  {
   "cell_type": "code",
   "execution_count": null,
   "id": "e5a5c04a",
   "metadata": {},
   "outputs": [],
   "source": [
    "# 12/12/2021-1\n",
    "# https://www.tensorflow.org/hub/tutorials/tf2_image_retraining\n",
    "from __future__ import absolute_import\n",
    "from IPython.display import clear_output\n",
    "import os\n",
    "os.environ['TF_CPP_MIN_LOG_LEVEL'] = '2'\n",
    "from os.path import exists, join\n",
    "\n",
    "contentPath = os.getcwd()\n",
    "cv2Path=join(contentPath, 'CV2Images')\n",
    "testPath=join(contentPath, 'images')\n",
    "\n",
    "import itertools\n",
    "import glob, os, time\n",
    "from time import sleep\n",
    "\n",
    "import matplotlib.pylab as plt\n",
    "import numpy as np\n",
    "\n",
    "import tensorflow as tf\n",
    "import tensorflow_hub as hub\n",
    "from CV2_Utils import *\n",
    "\n",
    "for fil in glob.glob('*.h5'):\n",
    "    print(fil)\n",
    "\n",
    "print(\"TF version:\", tf.__version__)\n",
    "print(\"Hub version:\", hub.__version__)\n",
    "print(\"GPU is\", \"available\" if tf.config.list_physical_devices('GPU') else \"NOT AVAILABLE\")\n",
    "print('cwd: ', os.getcwd())"
   ]
  },
  {
   "cell_type": "code",
   "execution_count": null,
   "id": "fbf4b976",
   "metadata": {},
   "outputs": [],
   "source": [
    "# import tensorflow.keras.preprocessing.image_dataset_from_directory\n",
    "test_ds = tf.keras.preprocessing.image_dataset_from_directory(\n",
    "    testPath,\n",
    "    color_mode='rgb',\n",
    "    image_size=(224, 224),\n",
    "    batch_size = 1)\n",
    "# clear_output()"
   ]
  },
  {
   "cell_type": "code",
   "execution_count": null,
   "id": "40de2029",
   "metadata": {},
   "outputs": [],
   "source": [
    "IMAGE_SIZE=(224, 224)\n",
    "BATCH_SIZE = 1\n",
    "\n",
    "import tensorflow\n",
    "from tensorflow.keras.utils import image_dataset_from_directory\n",
    "\n",
    "class_names = tuple(test_ds.class_names)\n",
    "train_size = test_ds.cardinality().numpy()\n",
    "test_ds = test_ds.unbatch().batch(BATCH_SIZE)\n",
    "test_ds = test_ds.repeat()\n",
    "test_ds\n",
    "\n",
    "# normalization_layer = tf.keras.layers.Rescaling(1. / 255)\n",
    "# preprocessing_model = tf.keras.Sequential([normalization_layer])"
   ]
  },
  {
   "cell_type": "code",
   "execution_count": null,
   "id": "69f07ccd",
   "metadata": {},
   "outputs": [],
   "source": [
    "\n",
    "import cv2\n",
    "from CV2_Utils import *\n",
    "modelPath = join(contentPath, \"Defcon4_Sequential_V5.h5\")\n",
    "newModel = tf.keras.models.load_model(modelPath, compile=True)\n",
    "# newModel.summary()\n",
    "# element=test_ds.get_single_element()\n",
    "img = test_ds.take(1)\n",
    "img = np.expand_dims(img, axis = 0) \n",
    "# cvu.plotShowSingleImage(img)\n",
    "img.shape"
   ]
  },
  {
   "cell_type": "code",
   "execution_count": null,
   "id": "d71a82ce",
   "metadata": {},
   "outputs": [],
   "source": [
    "os.chdir(testPath)\n",
    "testImageList=[]\n",
    "testImageGlob = glob.glob('**', recursive=True)\n",
    "for fil in testImageGlob:\n",
    "    fullPath = abspath(fil)\n",
    "    if isfile(fullPath):\n",
    "        testImageList.append(fullPath)\n",
    "        print(fullPath)\n",
    "        img = cv2.imread(fullPath)\n",
    "os.chdir(contentPath)"
   ]
  },
  {
   "cell_type": "code",
   "execution_count": null,
   "id": "6d55b839",
   "metadata": {},
   "outputs": [],
   "source": [
    "import numpy as np\n",
    "from keras.preprocessing import image\n",
    "for item in testImageList:\n",
    "    img_width, img_height = 224, 224\n",
    "    # img = image.load_img(testImageList[0], target_size = (img_width, img_height)\n",
    "    # print(item)\n",
    "    img = cv2.imread(item)\n",
    "    img = cv2.resize(img, dsize=(224, 224))\n",
    "    cvu.plotShowSingleImage(img)\n",
    "    img = image.img_to_array(img)\n",
    "    img = np.expand_dims(img, axis = 0) # reshape img for prediction \n",
    "    print(f'prediction shape: {img.shape}')\n",
    "    \n",
    "    prediction = newModel.predict(img)\n",
    "    print(prediction)\n",
    "    prediction = np.argmax(prediction)\n",
    "    print(f'prediction: {prediction}\\n')\n",
    "    \n",
    "    sleep(1)\n",
    "    img = None"
   ]
  }
 ],
 "metadata": {
  "kernelspec": {
   "display_name": "Python 3 (ipykernel)",
   "language": "python",
   "name": "python3"
  },
  "language_info": {
   "codemirror_mode": {
    "name": "ipython",
    "version": 3
   },
   "file_extension": ".py",
   "mimetype": "text/x-python",
   "name": "python",
   "nbconvert_exporter": "python",
   "pygments_lexer": "ipython3",
   "version": "3.7.12"
  }
 },
 "nbformat": 4,
 "nbformat_minor": 5
}
