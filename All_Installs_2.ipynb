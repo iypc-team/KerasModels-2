{
 "cells": [
  {
   "cell_type": "code",
   "execution_count": null,
   "id": "45dea1b2",
   "metadata": {},
   "outputs": [],
   "source": [
    "# 12/26/2021-1\n",
    "from __future__ import absolute_import, division\n",
    "from IPython.display import clear_output\n",
    "from BashColors import C\n",
    "\n",
    "import glob, os, shutil, sys\n",
    "from os.path import *\n",
    "os.environ['TF_CPP_MIN_LOG_LEVEL'] = '2' \n",
    "\n",
    "import TarfileFunctions\n",
    "from TarfileFunctions import *\n",
    "from BashColors import C\n",
    "\n",
    "contentPath=os.getcwd()\n",
    "if exists(join(contentPath, 'site')):\n",
    "    shutil.rmtree(join(contentPath, 'site'))\n",
    "cv2Path = join(contentPath, 'CV2Images')\n",
    "testPath = join(contentPath, 'images')\n",
    "# sitePath=join('srv/conda/envs/notebook/lib/python3.7/site-packages')\n",
    "installList = [\n",
    "    'All_CV2_Images.tar.gz','BashColors.py', 'TarfileFunctions.py'\n",
    "    'opencv-python-headless', 'matplotlib', 'SciPy'\n",
    "    'tensorflow', 'tensorflow-hub', 'tflite-model-maker'\n",
    "]\n",
    "print(f'cwd: {C.BIBlue}{os.getcwd()}{C.ColorOff}')\n",
    "print(sitePath)\n",
    "\n",
    "# os.chdir(contentPath)"
   ]
  },
  {
   "cell_type": "code",
   "execution_count": null,
   "id": "c5591e55",
   "metadata": {},
   "outputs": [],
   "source": [
    "alreadyInstalledList=set([each.split('.')[0] for each in sys.modules.keys()])\n",
    "modul = sys.modules.keys()\n",
    "\n",
    "for _, item in enumerate(installList):\n",
    "    if not item in alreadyInstalledList:\n",
    "        print(f'installing: {C.BIBlue}{item}{C.ColorOff}')\n",
    "        %pip install item\n",
    "    else: print(f'{item} already exists')"
   ]
  },
  {
   "cell_type": "code",
   "execution_count": null,
   "id": "2bb8e0fe",
   "metadata": {},
   "outputs": [],
   "source": [
    "item=None\n",
    "for item in installList:\n",
    "    print(item)\n",
    "    # %pip uninstall -y item"
   ]
  },
  {
   "cell_type": "code",
   "execution_count": null,
   "id": "5802b458",
   "metadata": {},
   "outputs": [],
   "source": [
    "try: \n",
    "    import tensorflow\n",
    "    print(tensorflow.__version__)\n",
    "except Exception as err:\n",
    "    print(err)"
   ]
  }
 ],
 "metadata": {
  "kernelspec": {
   "display_name": "Python 3 (ipykernel)",
   "language": "python",
   "name": "python3"
  },
  "language_info": {
   "codemirror_mode": {
    "name": "ipython",
    "version": 3
   },
   "file_extension": ".py",
   "mimetype": "text/x-python",
   "name": "python",
   "nbconvert_exporter": "python",
   "pygments_lexer": "ipython3",
   "version": "3.7.12"
  }
 },
 "nbformat": 4,
 "nbformat_minor": 5
}
