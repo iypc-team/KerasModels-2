{
 "cells": [
  {
   "cell_type": "code",
   "execution_count": null,
   "id": "fd1c39de",
   "metadata": {},
   "outputs": [],
   "source": [
    "from __future__ import absolute_import\n",
    "from IPython.display import clear_output\n",
    "import os\n",
    "from os.path import *\n",
    "os.environ['TF_CPP_MIN_LOG_LEVEL'] = '2'\n",
    "\n",
    "import tensorflow as tf\n",
    "\n",
    "contentPath = os.getcwd()\n",
    "cv2Path=join(contentPath, 'CV2Images')\n",
    "genPath=join(contentPath, 'DataGenerator')\n",
    "testPath=join(contentPath, 'images')\n",
    "checkpointPath = join(contentPath, 'CheckPoints')\n",
    "print('ok')"
   ]
  },
  {
   "cell_type": "code",
   "execution_count": null,
   "id": "8634f0dc",
   "metadata": {},
   "outputs": [],
   "source": [
    "modelPath = join(contentPath, 'Defcon4_Sequential_V5.h5')\n",
    "model = tf.keras.models.load_model(modelPath)\n",
    "model.evaluate()"
   ]
  },
  {
   "cell_type": "code",
   "execution_count": null,
   "id": "b2de2276",
   "metadata": {},
   "outputs": [],
   "source": [
    "modelPath = join(contentPath, 'Defcon4_Sequential_V5.h5')\n",
    "tf.keras.utils.plot_model(\n",
    "    modelPath,\n",
    "    # to_file=\"model.png\",\n",
    "    to_file='Defcon4_Sequential_V5.png',\n",
    "    show_shapes=False,\n",
    "    show_dtype=False,\n",
    "    show_layer_names=True,\n",
    "    # rankdir=\"TB\",\n",
    "    expand_nested=False,\n",
    "    dpi=96,\n",
    "    layer_range=None,\n",
    "    show_layer_activations=False,\n",
    ")"
   ]
  },
  {
   "cell_type": "code",
   "execution_count": null,
   "id": "bba986a5",
   "metadata": {},
   "outputs": [],
   "source": [
    "input = tf.keras.Input(shape=(100,), dtype='int32', name='input')\n",
    "x = tf.keras.layers.Embedding(\n",
    "    output_dim=512, input_dim=10000, input_length=100)(input)\n",
    "x = tf.keras.layers.LSTM(32)(x)\n",
    "x = tf.keras.layers.Dense(64, activation='relu')(x)\n",
    "x = tf.keras.layers.Dense(64, activation='relu')(x)\n",
    "x = tf.keras.layers.Dense(64, activation='relu')(x)\n",
    "output = tf.keras.layers.Dense(1, activation='sigmoid', name='output')(x)\n",
    "model = tf.keras.Model(inputs=[input], outputs=[output])\n",
    "dot_img_file = '/tmp/model_1.png'\n",
    "tf.keras.utils.plot_model(model, to_file=dot_img_file, show_shapes=True)"
   ]
  }
 ],
 "metadata": {
  "kernelspec": {
   "display_name": "Python 3 (ipykernel)",
   "language": "python",
   "name": "python3"
  },
  "language_info": {
   "codemirror_mode": {
    "name": "ipython",
    "version": 3
   },
   "file_extension": ".py",
   "mimetype": "text/x-python",
   "name": "python",
   "nbconvert_exporter": "python",
   "pygments_lexer": "ipython3",
   "version": "3.7.12"
  }
 },
 "nbformat": 4,
 "nbformat_minor": 5
}
